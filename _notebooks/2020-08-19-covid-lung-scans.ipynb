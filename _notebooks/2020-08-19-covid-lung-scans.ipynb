{
 "cells": [
  {
   "cell_type": "markdown",
   "metadata": {},
   "source": [
    "# COVID-19 CT scans"
   ]
  },
  {
   "cell_type": "markdown",
   "metadata": {},
   "source": [
    "Use of Lung CT scans to create prediction models to indicate the presence of COVID-19 infections"
   ]
  },
  {
   "cell_type": "markdown",
   "metadata": {},
   "source": [
    "CT scans plays a supportive role in the diagnosis of COVID-19 and is a key procedure for determining the severity that the patient finds himself in.\n",
    "Models that can find evidence of COVID-19 and/or characterize its findings can play a crucial role in optimizing diagnosis and treatment, especially in areas with a shortage of expert radiologists.\n",
    "This dataset contains 20 CT scans of patients diagnosed with COVID-19 as well as segmentations of lungs and infections made by experts."
   ]
  },
  {
   "cell_type": "code",
   "execution_count": 8,
   "metadata": {},
   "outputs": [],
   "source": [
    "import glob \n",
    "import pandas as pd \n",
    "import numpy as np \n",
    "import matplotlib as plt "
   ]
  },
  {
   "cell_type": "code",
   "execution_count": 4,
   "metadata": {},
   "outputs": [],
   "source": [
    "# As the raw data files are in the *.nii format we need to import the nibabel \n",
    "import nibabel as nib "
   ]
  },
  {
   "cell_type": "code",
   "execution_count": 17,
   "metadata": {},
   "outputs": [],
   "source": [
    "import os\n",
    "cwd = os.getcwd()"
   ]
  },
  {
   "cell_type": "code",
   "execution_count": 15,
   "metadata": {},
   "outputs": [],
   "source": [
    "raw_df = pd.read_csv('data_files/covid-lung-ct/metadata.csv')"
   ]
  },
  {
   "cell_type": "code",
   "execution_count": 18,
   "metadata": {},
   "outputs": [
    {
     "data": {
      "text/html": [
       "<div>\n",
       "<style scoped>\n",
       "    .dataframe tbody tr th:only-of-type {\n",
       "        vertical-align: middle;\n",
       "    }\n",
       "\n",
       "    .dataframe tbody tr th {\n",
       "        vertical-align: top;\n",
       "    }\n",
       "\n",
       "    .dataframe thead th {\n",
       "        text-align: right;\n",
       "    }\n",
       "</style>\n",
       "<table border=\"1\" class=\"dataframe\">\n",
       "  <thead>\n",
       "    <tr style=\"text-align: right;\">\n",
       "      <th></th>\n",
       "      <th>ct_scan</th>\n",
       "      <th>lung_mask</th>\n",
       "      <th>infection_mask</th>\n",
       "      <th>lung_and_infection_mask</th>\n",
       "    </tr>\n",
       "  </thead>\n",
       "  <tbody>\n",
       "    <tr>\n",
       "      <th>0</th>\n",
       "      <td>../input/covid19-ct-scans/ct_scans/coronacases...</td>\n",
       "      <td>../input/covid19-ct-scans/lung_mask/coronacase...</td>\n",
       "      <td>../input/covid19-ct-scans/infection_mask/coron...</td>\n",
       "      <td>../input/covid19-ct-scans/lung_and_infection_m...</td>\n",
       "    </tr>\n",
       "    <tr>\n",
       "      <th>1</th>\n",
       "      <td>../input/covid19-ct-scans/ct_scans/coronacases...</td>\n",
       "      <td>../input/covid19-ct-scans/lung_mask/coronacase...</td>\n",
       "      <td>../input/covid19-ct-scans/infection_mask/coron...</td>\n",
       "      <td>../input/covid19-ct-scans/lung_and_infection_m...</td>\n",
       "    </tr>\n",
       "    <tr>\n",
       "      <th>2</th>\n",
       "      <td>../input/covid19-ct-scans/ct_scans/coronacases...</td>\n",
       "      <td>../input/covid19-ct-scans/lung_mask/coronacase...</td>\n",
       "      <td>../input/covid19-ct-scans/infection_mask/coron...</td>\n",
       "      <td>../input/covid19-ct-scans/lung_and_infection_m...</td>\n",
       "    </tr>\n",
       "    <tr>\n",
       "      <th>3</th>\n",
       "      <td>../input/covid19-ct-scans/ct_scans/coronacases...</td>\n",
       "      <td>../input/covid19-ct-scans/lung_mask/coronacase...</td>\n",
       "      <td>../input/covid19-ct-scans/infection_mask/coron...</td>\n",
       "      <td>../input/covid19-ct-scans/lung_and_infection_m...</td>\n",
       "    </tr>\n",
       "    <tr>\n",
       "      <th>4</th>\n",
       "      <td>../input/covid19-ct-scans/ct_scans/coronacases...</td>\n",
       "      <td>../input/covid19-ct-scans/lung_mask/coronacase...</td>\n",
       "      <td>../input/covid19-ct-scans/infection_mask/coron...</td>\n",
       "      <td>../input/covid19-ct-scans/lung_and_infection_m...</td>\n",
       "    </tr>\n",
       "  </tbody>\n",
       "</table>\n",
       "</div>"
      ],
      "text/plain": [
       "                                             ct_scan  \\\n",
       "0  ../input/covid19-ct-scans/ct_scans/coronacases...   \n",
       "1  ../input/covid19-ct-scans/ct_scans/coronacases...   \n",
       "2  ../input/covid19-ct-scans/ct_scans/coronacases...   \n",
       "3  ../input/covid19-ct-scans/ct_scans/coronacases...   \n",
       "4  ../input/covid19-ct-scans/ct_scans/coronacases...   \n",
       "\n",
       "                                           lung_mask  \\\n",
       "0  ../input/covid19-ct-scans/lung_mask/coronacase...   \n",
       "1  ../input/covid19-ct-scans/lung_mask/coronacase...   \n",
       "2  ../input/covid19-ct-scans/lung_mask/coronacase...   \n",
       "3  ../input/covid19-ct-scans/lung_mask/coronacase...   \n",
       "4  ../input/covid19-ct-scans/lung_mask/coronacase...   \n",
       "\n",
       "                                      infection_mask  \\\n",
       "0  ../input/covid19-ct-scans/infection_mask/coron...   \n",
       "1  ../input/covid19-ct-scans/infection_mask/coron...   \n",
       "2  ../input/covid19-ct-scans/infection_mask/coron...   \n",
       "3  ../input/covid19-ct-scans/infection_mask/coron...   \n",
       "4  ../input/covid19-ct-scans/infection_mask/coron...   \n",
       "\n",
       "                             lung_and_infection_mask  \n",
       "0  ../input/covid19-ct-scans/lung_and_infection_m...  \n",
       "1  ../input/covid19-ct-scans/lung_and_infection_m...  \n",
       "2  ../input/covid19-ct-scans/lung_and_infection_m...  \n",
       "3  ../input/covid19-ct-scans/lung_and_infection_m...  \n",
       "4  ../input/covid19-ct-scans/lung_and_infection_m...  "
      ]
     },
     "execution_count": 18,
     "metadata": {},
     "output_type": "execute_result"
    }
   ],
   "source": [
    "#The metadata csv file contains all of the file paths for each of the CT images within the dataset provided by kaggle. \n",
    "# Loading the data frame head to get an ouline of the data.\n",
    "raw_df.head()"
   ]
  },
  {
   "cell_type": "code",
   "execution_count": null,
   "metadata": {},
   "outputs": [],
   "source": []
  }
 ],
 "metadata": {
  "kernelspec": {
   "display_name": "Python [default]",
   "language": "python",
   "name": "python3"
  },
  "language_info": {
   "codemirror_mode": {
    "name": "ipython",
    "version": 3
   },
   "file_extension": ".py",
   "mimetype": "text/x-python",
   "name": "python",
   "nbconvert_exporter": "python",
   "pygments_lexer": "ipython3",
   "version": "3.6.5"
  }
 },
 "nbformat": 4,
 "nbformat_minor": 2
}
