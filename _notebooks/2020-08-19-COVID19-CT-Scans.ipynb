{
 "cells": [
  {
   "cell_type": "markdown",
   "metadata": {},
   "source": [
    "# "
   ]
  }
 ],
 "metadata": {
  "kernelspec": {
   "display_name": "Python 3.7.7 64-bit",
   "language": "python",
   "name": "python37764bitd795b8feca944f35b43010cc9c304760"
  }
 },
 "nbformat": 4,
 "nbformat_minor": 2
}
